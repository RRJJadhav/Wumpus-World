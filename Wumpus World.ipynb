{
 "cells": [
  {
   "cell_type": "markdown",
   "metadata": {},
   "source": [
    "Importing all the required libraries "
   ]
  },
  {
   "cell_type": "code",
   "execution_count": 1,
   "metadata": {},
   "outputs": [
    {
     "name": "stdout",
     "output_type": "stream",
     "text": [
      "Requirement already satisfied: logic in c:\\users\\rohit\\anaconda3\\lib\\site-packages (0.2.3)\n",
      "Requirement already satisfied: multipledispatch in c:\\users\\rohit\\anaconda3\\lib\\site-packages (from logic) (0.6.0)\n",
      "Requirement already satisfied: toolz in c:\\users\\rohit\\anaconda3\\lib\\site-packages (from logic) (0.11.1)\n",
      "Requirement already satisfied: unification in c:\\users\\rohit\\anaconda3\\lib\\site-packages (from logic) (0.2.2)\n",
      "Requirement already satisfied: six in c:\\users\\rohit\\anaconda3\\lib\\site-packages (from multipledispatch->logic) (1.15.0)\n",
      "Note: you may need to restart the kernel to use updated packages.\n"
     ]
    }
   ],
   "source": [
    "pip install logic"
   ]
  },
  {
   "cell_type": "code",
   "execution_count": null,
   "metadata": {},
   "outputs": [],
   "source": [
    "from utils import *\n",
    "from logic import *\n",
    "from notebook import psource"
   ]
  },
  {
   "cell_type": "code",
   "execution_count": null,
   "metadata": {},
   "outputs": [],
   "source": []
  },
  {
   "cell_type": "markdown",
   "metadata": {},
   "source": [
    "\n",
    "    Here we have a simple logic for our agent to get to the gold-filled square. There are various requirements or rules that must be given to the agent, and our agent will be able to anticipate which square is safe to enter based on this information.\n",
    "If the agent detects stink in any square, the wumpus is in the neighbouring square, indicating that that square is not safe.\n",
    "Second, if the agent detects a breeze in any square, the neighbouring square contains a pit that should not be entered."
   ]
  },
  {
   "cell_type": "code",
   "execution_count": null,
   "metadata": {},
   "outputs": [],
   "source": [
    "wumpus_kb = PropKB()"
   ]
  },
  {
   "cell_type": "markdown",
   "metadata": {},
   "source": [
    "We define the symbols we use in our clauses.<br/>\n",
    "$G_{x, y}$ is true if there is a gold in `[x, y]`.<br/>\n",
    "$P_{x, y}$ is true if there is a pit in `[x, y]`.<br/>\n",
    "$B_{x, y}$ is true if the agent senses breeze in `[x, y]`.<br/>\n",
    "$W_{x, y}$ is true if there is a wumpus in `[x, y]`.<br/>\n",
    "$S_{x, y}$ is true if the agent perceives a stench in `[x, y]`.<br/>"
   ]
  },
  {
   "cell_type": "code",
   "execution_count": null,
   "metadata": {},
   "outputs": [],
   "source": [
    "S11, P41, S21, W31, W22, S12, G11, G12, G13, W12, W21, W11, B11, B31, P11, P21, P12, P32 = expr('S11, W12, W21, W11, B11, B31, P11, P21, P12, P32, P41, S21, W31, W22, S12, G11, G12, G13')"
   ]
  },
  {
   "cell_type": "markdown",
   "metadata": {},
   "source": [
    "There is no gold in `[1,1]`.\n",
    "\n",
    "There is no Wumpus in `[1,1]`.\n",
    "\n",
    "There is no pit in `[1,1]`."
   ]
  },
  {
   "cell_type": "code",
   "execution_count": null,
   "metadata": {},
   "outputs": [],
   "source": [
    "wumpus_kb.tell(~G11)\n",
    "wumpus_kb.tell(~W11)\n",
    "wumpus_kb.tell(~P11)"
   ]
  },
  {
   "cell_type": "markdown",
   "metadata": {},
   "source": [
    "There is breeze in all of the nearby squares if there is a pit. If there isn't any breeze, the agent can look for other factors.\n",
    "As previously stated, if a wumpus is present in any cell, the nearby cells must have a stink, which is an indication of danger. In cell (1,1), there is no stench or wumpus, but the agent can detect stink in cells (2,1) and (1,2), leading to the conclusion that the agent can move to cell (1,3) since the wumpus is present (2,2).\n",
    "As our agent has determined that wumpus is in W22, we can foreclose the W11, W12, and W21."
   ]
  },
  {
   "cell_type": "code",
   "execution_count": null,
   "metadata": {},
   "outputs": [],
   "source": [
    "wumpus_kb.tell(S11 | '<=>' | ((W12 | W21)))\n",
    "wumpus_kb.tell(S21 | '<=>' | ((W11 | W22 | W31)))\n",
    "wumpus_kb.tell(S12 | '<=>' | ((W11 | W22)))"
   ]
  },
  {
   "cell_type": "markdown",
   "metadata": {},
   "source": [
    "As previously stated, if a pit exists, adjacent cells must also have a pit. Because there is no pit and breeze in cell(1,1), it is foreclosed. The agent detects a breeze when in cell(1,3), implying that the Pit is in cell(1,4) or cell(1,5) (2,3)"
   ]
  },
  {
   "cell_type": "code",
   "execution_count": null,
   "metadata": {},
   "outputs": [],
   "source": [
    "wumpus_kb.tell(B11 | '<=>' | ((P12 | P21)))\n",
    "wumpus_kb.tell(B13 | '<=>' | ((P23 | P14)))"
   ]
  },
  {
   "cell_type": "markdown",
   "metadata": {},
   "source": [
    "The smell percepts for the first two squares are now included. The stink can be found in cell(2,1) and (1,2) As a result, Wumpus is at cell (2,2)."
   ]
  },
  {
   "cell_type": "code",
   "execution_count": null,
   "metadata": {},
   "outputs": [],
   "source": [
    "wumpus_kb.tell(~S11)\n",
    "wumpus_kb.tell(S21)\n",
    "wumpus_kb.tell(S12)"
   ]
  },
  {
   "cell_type": "markdown",
   "metadata": {},
   "source": [
    "We can check the clauses stored in a `KB` by accessing its `clauses` variable"
   ]
  },
  {
   "cell_type": "code",
   "execution_count": null,
   "metadata": {},
   "outputs": [],
   "source": [
    "wumpus_kb.clauses"
   ]
  },
  {
   "cell_type": "code",
   "execution_count": null,
   "metadata": {},
   "outputs": [],
   "source": []
  },
  {
   "cell_type": "markdown",
   "metadata": {},
   "source": [
    "Here's some code that tells Wumpus to look through the knowledge base to see if there's any pits at all (1,1). We're all aware that it's impossible. As a result, the negation portion will be correct, but the non negation section will be wrong."
   ]
  },
  {
   "cell_type": "code",
   "execution_count": null,
   "metadata": {},
   "outputs": [],
   "source": [
    "wumpus_kb.ask_if_true(~P11), wumpus_kb.ask_if_true(P11)"
   ]
  },
  {
   "cell_type": "markdown",
   "metadata": {},
   "source": [
    "To determine if our software is working correctly, we can look for a Wumpus in cell (2,2). The negation section should return false, whereas the non negation section should return true, according to our expectations."
   ]
  },
  {
   "cell_type": "code",
   "execution_count": null,
   "metadata": {},
   "outputs": [],
   "source": [
    "wumpus_kb.ask_if_true(~W22), wumpus_kb.ask_if_true(W22)"
   ]
  },
  {
   "cell_type": "markdown",
   "metadata": {},
   "source": [
    "Use different numbers in the Ask if true method to ensure that our programme is working properly. The negation part will return true, but the non negation part will return false, because cell(1,2) lacks a wumpus."
   ]
  },
  {
   "cell_type": "code",
   "execution_count": null,
   "metadata": {},
   "outputs": [],
   "source": [
    "wumpus_kb.ask_if_true(~S12), wumpus_kb.ask_if_true(S12)"
   ]
  },
  {
   "cell_type": "markdown",
   "metadata": {},
   "source": [
    "ii. The agent will begin by staring right at cell(1,1) and then go to cell(2,1) (2,1)\n",
    "Before we begin, we must first ensure that the agent is safe to transport."
   ]
  },
  {
   "cell_type": "code",
   "execution_count": null,
   "metadata": {},
   "outputs": [],
   "source": [
    "wumpus_kb.ask_if_true(~P11), wumpus_kb.ask_if_true(P11)"
   ]
  },
  {
   "cell_type": "code",
   "execution_count": null,
   "metadata": {},
   "outputs": [],
   "source": [
    "wumpus_kb.ask_if_true(~S11), wumpus_kb.ask_if_true(S11)"
   ]
  },
  {
   "cell_type": "code",
   "execution_count": null,
   "metadata": {},
   "outputs": [],
   "source": [
    "wumpus_kb.ask_if_true(~W11), wumpus_kb.ask_if_true(W11)"
   ]
  },
  {
   "cell_type": "markdown",
   "metadata": {},
   "source": [
    "The agent may proceed if all of the negation portions return True; otherwise, he or she should reflect before acting."
   ]
  },
  {
   "cell_type": "code",
   "execution_count": null,
   "metadata": {},
   "outputs": [],
   "source": []
  },
  {
   "cell_type": "code",
   "execution_count": null,
   "metadata": {},
   "outputs": [],
   "source": [
    "wumpus_kb.ask_if_true(~S21), wumpus_kb.ask_if_true(S21)"
   ]
  },
  {
   "cell_type": "code",
   "execution_count": null,
   "metadata": {},
   "outputs": [],
   "source": [
    "wumpus_kb.ask_if_true(~W21), wumpus_kb.ask_if_true(W21)"
   ]
  },
  {
   "cell_type": "code",
   "execution_count": null,
   "metadata": {},
   "outputs": [],
   "source": [
    "wumpus_kb.ask_if_true(~P21), wumpus_kb.ask_if_true(P21)"
   ]
  },
  {
   "cell_type": "markdown",
   "metadata": {},
   "source": [
    "We detect a stench on cell(2,1), leading us to believe Wumpus is on the adjacent cell. As a result, it might be in cell(2,2) or cell(2,3) (3,1). As a result, the agent is sent back to the first cell (1,1)"
   ]
  },
  {
   "cell_type": "code",
   "execution_count": null,
   "metadata": {},
   "outputs": [],
   "source": []
  },
  {
   "cell_type": "code",
   "execution_count": null,
   "metadata": {},
   "outputs": [],
   "source": [
    "wumpus_kb.ask_if_true(~S12), wumpus_kb.ask_if_true(S12)"
   ]
  },
  {
   "cell_type": "code",
   "execution_count": null,
   "metadata": {},
   "outputs": [],
   "source": [
    "wumpus_kb.ask_if_true(~W22), wumpus_kb.ask_if_true(W22)"
   ]
  },
  {
   "cell_type": "code",
   "execution_count": null,
   "metadata": {},
   "outputs": [],
   "source": [
    "wumpus_kb.ask_if_true(~W21), wumpus_kb.ask_if_true(W21)"
   ]
  },
  {
   "cell_type": "markdown",
   "metadata": {},
   "source": [
    "Cell(1,2), we noticed, had a foul odour as well. We'd already determined that the cell had a foul odour (2,1). It's possible that Wumpus is hiding in your cell (2,2). After analysing cell(2,2), we validated that Wumpus is present, and we can safely go to cell(2,2) (1,3)."
   ]
  },
  {
   "cell_type": "code",
   "execution_count": null,
   "metadata": {},
   "outputs": [],
   "source": []
  },
  {
   "cell_type": "code",
   "execution_count": null,
   "metadata": {},
   "outputs": [],
   "source": []
  }
 ],
 "metadata": {
  "kernelspec": {
   "display_name": "Python 3",
   "language": "python",
   "name": "python3"
  },
  "language_info": {
   "codemirror_mode": {
    "name": "ipython",
    "version": 3
   },
   "file_extension": ".py",
   "mimetype": "text/x-python",
   "name": "python",
   "nbconvert_exporter": "python",
   "pygments_lexer": "ipython3",
   "version": "3.8.8"
  }
 },
 "nbformat": 4,
 "nbformat_minor": 4
}
